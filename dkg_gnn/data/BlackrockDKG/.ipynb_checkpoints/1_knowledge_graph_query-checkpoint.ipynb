{
 "cells": [
  {
   "cell_type": "markdown",
   "metadata": {},
   "source": [
    "# Querying Dynamic and Static Knowledge Graphs \n",
    "The following code will create some helper functions to load entity and relation mappings to IDs and the relational tuples that map between subject-relation-object entities. All these are tab-separated and provided by the FinDKG project dataset. See https://xiaohui-victor-li.github.io/FinDKG for more details."
   ]
  },
  {
   "cell_type": "code",
   "execution_count": 14,
   "metadata": {},
   "outputs": [],
   "source": [
    "# Run this cell for dynamic (temporal) knowledge graphs \n",
    "def load_entities(filename):\n",
    "    lines = open(filename).readlines()\n",
    "    all_entities = {}\n",
    "    for line in lines:\n",
    "        entity, id, _, count = line.strip().split(\"\\t\")\n",
    "        all_entities[int(id)] = entity\n",
    "    \n",
    "    return all_entities\n",
    "\n",
    "def load_relations(filename):\n",
    "    lines = open(filename).readlines()\n",
    "    all_relations = {}\n",
    "    for line in lines:\n",
    "        relation, id = line.strip().split(\"\\t\")\n",
    "        all_relations[int(id)] = relation\n",
    "    \n",
    "    return all_relations\n",
    "\n",
    "def get_relation_tuples(all_entities, all_relations, dataset):\n",
    "    # load the data\n",
    "    lines = open(dataset).readlines()\n",
    "    all_tuples = []\n",
    "    for line in lines:\n",
    "        subject, relation, obj, time, _ = line.strip().split(\"\\t\")\n",
    "        all_tuples.append((all_entities[int(subject)], all_relations[int(relation)], all_entities[int(obj)]))\n",
    "    return all_tuples"
   ]
  },
  {
   "cell_type": "code",
   "execution_count": 18,
   "metadata": {},
   "outputs": [],
   "source": [
    "#Run this set of functions for a static (non-temporal) knowledge graph\n",
    "def load_entities(filename):\n",
    "    lines = open(filename).readlines()\n",
    "    all_entities = {}\n",
    "    for line in lines:\n",
    "        entity, id = line.strip().split(\"\\t\")\n",
    "        all_entities[int(id)] = entity\n",
    "    \n",
    "    return all_entities\n",
    "\n",
    "def load_relations(filename):\n",
    "    lines = open(filename).readlines()\n",
    "    all_relations = {}\n",
    "    for line in lines:\n",
    "        relation, id = line.strip().split(\"\\t\")\n",
    "        all_relations[int(id)] = relation\n",
    "    \n",
    "    return all_relations\n",
    "\n",
    "def get_relation_tuples(all_entities, all_relations, dataset):\n",
    "    # load the data\n",
    "    lines = open(dataset).readlines()\n",
    "    all_tuples = []\n",
    "    for line in lines:\n",
    "        subject, relation, obj= line.strip().split(\"\\t\")\n",
    "        all_tuples.append((all_entities[int(subject)], all_relations[int(relation)], all_entities[int(obj)]))\n",
    "    return all_tuples"
   ]
  },
  {
   "cell_type": "code",
   "execution_count": null,
   "metadata": {},
   "outputs": [],
   "source": [
    "# Temporal FinDKG\n",
    "ENTITY_ID_MAP = \"data/FinDKG-full/entity2id.txt\"\n",
    "RELATION_ID_MAP = \"data/FinDKG-full/relation2id.txt\"\n",
    "# test/train data: The first four columns correspond to subject (entity), relation, object (entity), and time.\n",
    "DATASET = \"data/FinDKG-full/test.txt\"\n",
    "\n",
    "all_entities = load_entities(ENTITY_ID_MAP)\n",
    "all_relations = load_relations(RELATION_ID_MAP)\n",
    "knowledge_graph = get_relation_tuples(all_entities, all_relations, DATASET)"
   ]
  },
  {
   "cell_type": "code",
   "execution_count": 19,
   "metadata": {},
   "outputs": [],
   "source": [
    "#Static knowledge graph - run this cell for the subgraph consisting of 3 news articles triples\n",
    "ENTITY_ID_MAP = \"dkg_gnn/data/BlackRockDKG/test_entity2id.txt\"\n",
    "RELATION_ID_MAP = \"dkg_gnn/data/BlackRockDKG/test_relation2id.txt\"\n",
    "# test/train data: The first four columns correspond to subject (entity), relation, object (entity), and time.\n",
    "DATASET = \"dkg_gnn/data/BlackRockDKG/test_kg.txt\"\n",
    "\n",
    "all_entities = load_entities(ENTITY_ID_MAP)\n",
    "all_relations = load_relations(RELATION_ID_MAP)\n",
    "knowledge_graph = get_relation_tuples(all_entities, all_relations, DATASET)"
   ]
  },
  {
   "cell_type": "markdown",
   "metadata": {},
   "source": [
    "Now that we have the entities, relations and the entire knowledge graph in English, let's ingest it into NetworkX for visualization. First install networkX using the command below. "
   ]
  },
  {
   "cell_type": "code",
   "execution_count": 2,
   "metadata": {},
   "outputs": [
    {
     "name": "stdout",
     "output_type": "stream",
     "text": [
      "\u001b[33mWARNING: Running pip as the 'root' user can result in broken permissions and conflicting behaviour with the system package manager. It is recommended to use a virtual environment instead: https://pip.pypa.io/warnings/venv\u001b[0m\u001b[33m\n",
      "\u001b[0m\n",
      "\u001b[1m[\u001b[0m\u001b[34;49mnotice\u001b[0m\u001b[1;39;49m]\u001b[0m\u001b[39;49m A new release of pip is available: \u001b[0m\u001b[31;49m23.3.1\u001b[0m\u001b[39;49m -> \u001b[0m\u001b[32;49m24.0\u001b[0m\n",
      "\u001b[1m[\u001b[0m\u001b[34;49mnotice\u001b[0m\u001b[1;39;49m]\u001b[0m\u001b[39;49m To update, run: \u001b[0m\u001b[32;49mpython -m pip install --upgrade pip\u001b[0m\n",
      "Note: you may need to restart the kernel to use updated packages.\n"
     ]
    }
   ],
   "source": [
    "%pip install --upgrade --quiet  networkx langchain"
   ]
  },
  {
   "cell_type": "markdown",
   "metadata": {},
   "source": [
    "Let's build the network query chain using LangChain following this tutorial. https://python.langchain.com/docs/use_cases/graph/graph_networkx_qa. For this, we already have the relation/entity triplets, so let's add them to a new networkx graph manually."
   ]
  },
  {
   "cell_type": "code",
   "execution_count": 20,
   "metadata": {},
   "outputs": [],
   "source": [
    "from langchain.indexes.graph import NetworkxEntityGraph\n",
    "from langchain.graphs.networkx_graph import KnowledgeTriple\n",
    "\n",
    "graph = NetworkxEntityGraph()\n",
    "for item in knowledge_graph:\n",
    "    kt = KnowledgeTriple(item[0], item[1], item[2])\n",
    "    graph.add_triple(kt)"
   ]
  },
  {
   "cell_type": "markdown",
   "metadata": {},
   "source": [
    "Let's check what sort of triples have been generated using the graph.get_triples() function."
   ]
  },
  {
   "cell_type": "code",
   "execution_count": 21,
   "metadata": {},
   "outputs": [
    {
     "data": {
      "text/plain": [
       "[('California', 'Minimum Wage', 'Raise'),\n",
       " ('California', 'More than 2 million workers', 'Impact'),\n",
       " ('Maine', 'Minimum Wage', 'Raise'),\n",
       " ('Maine', 'An estimated 59,000 workers', 'Impact'),\n",
       " ('National Employment Law Project',\n",
       "  '18 states and 19 cities will boost minimum wage',\n",
       "  'Announce'),\n",
       " ('Economic Policy Institute', 'Figures', 'Compile'),\n",
       " ('Federal Minimum Wage', '$7.25 an hour', 'Currently'),\n",
       " ('Federal Minimum Wage', 'Inflation', 'Not Pegged'),\n",
       " ('1968', '$2 an hour', 'Statutory Minimum Wage'),\n",
       " ('1968', 'About $10.90 an hour in 2017 dollars', 'Worth'),\n",
       " ('Hedge Funds', 'Oil Prices', 'Most_Bullish'),\n",
       " ('Hedge Funds', 'Further_Gains', 'Expect'),\n",
       " ('Hedge Funds', 'Risk', 'Ignore'),\n",
       " ('Hedge Funds', 'Record_Net_Long_Position', 'Hold'),\n",
       " ('Hedge Funds', '1183 Million Barrels', 'Amount'),\n",
       " ('Hedge Funds', 'Record_Net_Long_Positions', 'Have'),\n",
       " ('Hedge Funds', 'Net_Long_Positions', 'Have'),\n",
       " ('Hedge Funds', 'Large_Net_Long_Positions', 'Have'),\n",
       " ('Hedge Funds', 'Stretched_Position', 'Have'),\n",
       " ('Hedge Funds', 'Downside_Risk', 'Poses'),\n",
       " ('Hedge Funds', 'Liquidation_Risk', 'Ignore'),\n",
       " ('Hedge Funds', 'Prospect_Of_Further_Price_Increases', 'Focus'),\n",
       " ('Hedge Funds', 'Bullish', 'Remain'),\n",
       " ('Hedge Funds', 'Risk_Is_Some_Way_Off', 'Conclude'),\n",
       " ('Hedge Funds', 'Magnify', 'Long_Positions'),\n",
       " ('Portfolio Managers', 'Record_1328 Million Barrels', 'Hold'),\n",
       " ('Portfolio Managers', 'Long_Positions', 'Hold'),\n",
       " ('Portfolio Managers', 'Short_Positions', 'Hold'),\n",
       " ('Fund Managers', 'More_Than_Nine_Long_Positions', 'Hold'),\n",
       " ('Fund Managers', 'Short_Positions', 'Hold'),\n",
       " ('Downside_Risk', 'Resurgence_Of_US_Shale_Oil_Production', 'Come'),\n",
       " ('Global Economy', 'Synchronised_Upswing', 'Is'),\n",
       " ('World Trade', 'Fastest_Rate', 'Grow'),\n",
       " ('Stocks', 'Significantly', 'Fall'),\n",
       " ('Oil Demand', 'Rapidly', 'Grow'),\n",
       " ('OPEC', 'Production_Pact', 'Extend'),\n",
       " ('OPEC', 'Oil_Market', 'Tighten'),\n",
       " ('OPEC', 'Prices_To_Overshoot', 'Allow'),\n",
       " ('OPEC', 'Why', 'Explain'),\n",
       " ('OPEC', 'Halt_Production_Cuts', 'Force'),\n",
       " ('Benchmark_Brent_Prices', 'Towards_70_A_Barrel', 'Move'),\n",
       " ('Prices', 'More_Scope_To_Climb', 'Have'),\n",
       " ('WTI_Prices', 'Above_60_A_Barrel', 'Now'),\n",
       " ('Shale_Output', 'Climb_Faster_Than_Expected', 'Start'),\n",
       " ('Federal Reserve', 'short-term interest rates', 'Raise'),\n",
       " ('Federal Reserve', 'U.S. economic growth', 'Upgrade'),\n",
       " ('Five-year U.S. yield', 'April 2011', 'Highest level'),\n",
       " ('Investors', 'clues', 'Await'),\n",
       " ('U.S. Dec ISM manufacturing data', 'expectations', 'Beat'),\n",
       " ('U.S. 2-year yield', '9-year peak', 'Touches'),\n",
       " ('Companies', '$35 bln high-grade bonds', 'Sell'),\n",
       " ('Companies', '$35 billion', 'Sell'),\n",
       " ('IFR', 'market action after ISM data', 'Update'),\n",
       " ('Jason Celente', 'Insight Investment', 'Senior portfolio manager'),\n",
       " ('Wednesday', 'U.S. yields', 'Drop'),\n",
       " ('ISM factory index', '59.7', 'Unexpectedly rise'),\n",
       " ('Analysts', 'Reuters', 'Polled'),\n",
       " ('Evidence', 'factory sector', 'Expansion'),\n",
       " ('Fed', '3 times', 'Increase rates'),\n",
       " ('Minutes', '2 p.m.', 'Release'),\n",
       " ('FOMC', 'biggest rewrite', 'Passage'),\n",
       " ('FOMC', 'business activity', 'View'),\n",
       " ('Ten-year Treasury yield', '0.5 basis point', 'Down'),\n",
       " ('30-year yield', '0.6 basis point', 'Down'),\n",
       " ('Two-year yield', '9-year high', 'Reach'),\n",
       " ('Two-year yield', '1.931 percent', 'Last')]"
      ]
     },
     "execution_count": 21,
     "metadata": {},
     "output_type": "execute_result"
    }
   ],
   "source": [
    "graph.get_triples()"
   ]
  },
  {
   "cell_type": "markdown",
   "metadata": {},
   "source": [
    "Looks pretty great! Let's try querying this graph by using an LLM chain. We will use the free NVIDIA AI Endpoints Mixtral-8x7B model (https://catalog.ngc.nvidia.com/orgs/nvidia/teams/ai-foundation/models/mixtral-8x7b/api). We can access them through the LangChain connector: https://python.langchain.com/docs/integrations/chat/nvidia_ai_endpoints."
   ]
  },
  {
   "cell_type": "code",
   "execution_count": null,
   "metadata": {},
   "outputs": [],
   "source": [
    "%pip install --quiet langchain_nvidia_ai_endpoints"
   ]
  },
  {
   "cell_type": "code",
   "execution_count": 9,
   "metadata": {},
   "outputs": [],
   "source": [
    "from langchain_nvidia_ai_endpoints import ChatNVIDIA\n",
    "from langchain.chains import GraphQAChain\n",
    "NVIDIA_API_KEY = \"GENERATE YOUR API KEY USING THE NGC LINK ->\" #from https://catalog.ngc.nvidia.com/orgs/nvidia/teams/ai-foundation/models/mixtral-8x7b/api\n",
    "llm = ChatNVIDIA(model=\"mixtral_8x7b\", nvidia_api_key=NVIDIA_API_KEY)"
   ]
  },
  {
   "cell_type": "code",
   "execution_count": 15,
   "metadata": {},
   "outputs": [
    {
     "name": "stdout",
     "output_type": "stream",
     "text": [
      "\n",
      "\n",
      "\u001b[1m> Entering new GraphQAChain chain...\u001b[0m\n",
      "Entities Extracted:\n",
      "\u001b[32;1m\u001b[1;3mSaudi Arabia, natural gas prices, US economy\u001b[0m\n",
      "Full Context:\n",
      "\u001b[32;1m\u001b[1;3mSaudi Arabia Has Crown Prince Mohammed Bin Salman\n",
      "Saudi Arabia Has Public Investment Fund\n",
      "Saudi Arabia Negative_Impact_On Oil prices\n",
      "Saudi Arabia Impact Inflation\n",
      "Saudi Arabia Relate_To OPEC\n",
      "Saudi Arabia Relate_To King Salman\n",
      "Saudi Arabia Operate_In Russia\n",
      "Saudi Arabia Produce OPEC+\n",
      "Saudi Arabia Operate_In Germany\n",
      "Saudi Arabia Relate_To United States\n",
      "Saudi Arabia Operate_In Middle East\n",
      "Saudi Arabia Operate_In oil industry\n",
      "Saudi Arabia Control Oil production\n",
      "Saudi Arabia Operate_In Oil market\n",
      "Saudi Arabia Relate_To Europe\n",
      "Saudi Arabia Relate_To Rising Food and Energy Prices\n",
      "Saudi Arabia Relate_To Xi Jinping\n",
      "Saudi Arabia Invests_In Ballistic Missiles\u001b[0m\n",
      "\n",
      "\u001b[1m> Finished chain.\u001b[0m\n",
      "I don't have real-time information or access to current data, but I can provide a general explanation based on the given knowledge triplets.\n",
      "\n",
      "Saudi Arabia is related to the US in various ways, including operating in the oil industry and having an impact on oil prices. As a major oil producer, Saudi Arabia controls oil production and operates in the global oil market. These factors suggest that changes in oil prices, which are influenced by Saudi Arabia, can have a significant impact on the US economy.\n",
      "\n",
      "Now, let's consider the relationship between Saudi Arabia and natural gas. Although not explicitly mentioned in the knowledge triplets, Saudi Arabia has a strong presence in the global energy market, which includes both oil and natural gas. If there are changes in natural gas prices in Saudi Arabia, it could affect their overall energy production costs.\n",
      "\n",
      "Increased natural gas prices in Saudi Arabia might lead to higher production costs, which could then influence the amount of oil they produce and the prices they set in the global oil market. Since the US imports oil from Saudi Arabia, any changes in oil prices could affect the cost of oil in the US, leading to potential impacts on the US economy, such as increased energy costs for consumers and businesses.\n",
      "\n",
      "However, it is essential to note that this is a simplified explanation, and many other factors could influence the relationship between natural gas prices in Saudi Arabia and the US economy. For a complete understanding, one should consider the current market conditions, geopolitical factors, and other relevant data.\n"
     ]
    }
   ],
   "source": [
    "# llm.invoke(\"hello\")\n",
    "chain = GraphQAChain.from_llm(llm = llm, graph=graph, verbose=True)\n",
    "res = chain.run(\"Explain how natural gas prices in Saudi Arabia could impact the US economy.\")\n",
    "print(res)"
   ]
  },
  {
   "cell_type": "markdown",
   "metadata": {},
   "source": [
    "Feel free to try more examples - as with all LLM projects, prompt engineering is important to capture the right relationships. Another good way to understand the graph better is to create a visualization. Let's do this using PyVis, since it has good integration with networkx."
   ]
  },
  {
   "cell_type": "code",
   "execution_count": null,
   "metadata": {},
   "outputs": [],
   "source": [
    "%pip install --quiet --upgrade pyvis"
   ]
  },
  {
   "cell_type": "code",
   "execution_count": 22,
   "metadata": {},
   "outputs": [
    {
     "name": "stdout",
     "output_type": "stream",
     "text": [
      "network.html\n"
     ]
    },
    {
     "data": {
      "text/html": [
       "\n",
       "        <iframe\n",
       "            width=\"100%\"\n",
       "            height=\"600px\"\n",
       "            src=\"network.html\"\n",
       "            frameborder=\"0\"\n",
       "            allowfullscreen\n",
       "            \n",
       "        ></iframe>\n",
       "        "
      ],
      "text/plain": [
       "<IPython.lib.display.IFrame at 0x7f2b359ab610>"
      ]
     },
     "execution_count": 22,
     "metadata": {},
     "output_type": "execute_result"
    }
   ],
   "source": [
    "from pyvis.network import Network\n",
    "import networkx as nx\n",
    "graph.write_to_gml(\"test_graph.gml\")\n",
    "G = nx.read_gml(\"test_graph.gml\")\n",
    "nt = Network(notebook=True, cdn_resources='in_line')\n",
    "nt.from_nx(G)\n",
    "nt.show(\"network.html\")"
   ]
  },
  {
   "cell_type": "markdown",
   "metadata": {},
   "source": [
    "![[Image 1] Zoomed-in knowledge graph\"](images/kg1.png \"[Image 1] Zoomed-in knowledge graph\")\n",
    "![[Image 2] Zoomed-in knowledge graph\"](images/kg2.png \"[Image 2] Zoomed-in knowledge graph\")"
   ]
  }
 ],
 "metadata": {
  "kernelspec": {
   "display_name": "Python 3 (ipykernel)",
   "language": "python",
   "name": "python3"
  },
  "language_info": {
   "codemirror_mode": {
    "name": "ipython",
    "version": 3
   },
   "file_extension": ".py",
   "mimetype": "text/x-python",
   "name": "python",
   "nbconvert_exporter": "python",
   "pygments_lexer": "ipython3",
   "version": "3.10.12"
  }
 },
 "nbformat": 4,
 "nbformat_minor": 4
}
